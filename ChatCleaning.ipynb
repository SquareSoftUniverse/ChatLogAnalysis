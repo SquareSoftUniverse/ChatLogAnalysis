{
 "cells": [
  {
   "cell_type": "code",
   "execution_count": 1,
   "metadata": {},
   "outputs": [],
   "source": [
    "import pandas as pd\n",
    "import numpy as np\n",
    "import matplotlib.pyplot as plt\n",
    "import html\n",
    "import re\n",
    "import os\n",
    "from bs4 import BeautifulSoup\n",
    "%matplotlib inline\n",
    "from tidylib import tidy_fragment"
   ]
  },
  {
   "cell_type": "code",
   "execution_count": 2,
   "metadata": {},
   "outputs": [
    {
     "name": "stderr",
     "output_type": "stream",
     "text": [
      "/home/aaron/anaconda3/lib/python3.6/site-packages/IPython/core/interactiveshell.py:2698: DtypeWarning: Columns (0) have mixed types. Specify dtype option on import or set low_memory=False.\n",
      "  interactivity=interactivity, compiler=compiler, result=result)\n"
     ]
    }
   ],
   "source": [
    "post_df = pd.read_csv('ssu_posts.csv', index_col=0)"
   ]
  },
  {
   "cell_type": "code",
   "execution_count": 3,
   "metadata": {},
   "outputs": [],
   "source": [
    "fixed = post_df.head(20).text.apply(tidy_fragment).str.get(0)"
   ]
  },
  {
   "cell_type": "code",
   "execution_count": 4,
   "metadata": {},
   "outputs": [
    {
     "data": {
      "text/plain": [
       "array(['Final Test', '^_^', 'Hey everyone!', 'Hey Cecil.', \"What's up?\",\n",
       "       'Test.', 'Theeeeeeeeere we go.', \"Okay, it's all good now. :p\",\n",
       "       'Test.', 'Gooooody.', 'Hmmm....', 'Testing again.',\n",
       "       'Pretty much my last test.',\n",
       "       \"Everything's satisfactory. Transition back to this chat complete. ^_^\",\n",
       "       'BBL, in a few hours.', 'yay ^_^', 'LOL@Picture Bug',\n",
       "       'Test without picture', 'with pics', 'again'], dtype=object)"
      ]
     },
     "execution_count": 4,
     "metadata": {},
     "output_type": "execute_result"
    }
   ],
   "source": [
    "fixed.values"
   ]
  },
  {
   "cell_type": "code",
   "execution_count": 5,
   "metadata": {},
   "outputs": [
    {
     "name": "stdout",
     "output_type": "stream",
     "text": [
      "<class 'pandas.core.frame.DataFrame'>\n",
      "Index: 1711195 entries, 0 to 1711192\n",
      "Data columns (total 3 columns):\n",
      "handle        object\n",
      "text          object\n",
      "time_stamp    object\n",
      "dtypes: object(3)\n",
      "memory usage: 52.2+ MB\n"
     ]
    }
   ],
   "source": [
    "post_df.info()"
   ]
  },
  {
   "cell_type": "code",
   "execution_count": 6,
   "metadata": {},
   "outputs": [],
   "source": [
    "post_df.text.fillna('', inplace=True)"
   ]
  },
  {
   "cell_type": "code",
   "execution_count": 7,
   "metadata": {},
   "outputs": [],
   "source": [
    "post_df['text_parsed'] = post_df['text'].apply(tidy_fragment).str.get(0)"
   ]
  },
  {
   "cell_type": "code",
   "execution_count": 8,
   "metadata": {},
   "outputs": [],
   "source": [
    "post_df['text_parsed'] = post_df['text_parsed'].apply(html.unescape)"
   ]
  },
  {
   "cell_type": "code",
   "execution_count": null,
   "metadata": {},
   "outputs": [],
   "source": [
    "posts = post_df.text_parsed.values"
   ]
  },
  {
   "cell_type": "code",
   "execution_count": null,
   "metadata": {},
   "outputs": [],
   "source": [
    "img_mask = post_df.text_parsed.str.contains('<img')"
   ]
  },
  {
   "cell_type": "code",
   "execution_count": null,
   "metadata": {},
   "outputs": [],
   "source": [
    "img_mask.sum()"
   ]
  },
  {
   "cell_type": "code",
   "execution_count": null,
   "metadata": {},
   "outputs": [],
   "source": [
    "img_mask.sum()/len(post_df)"
   ]
  },
  {
   "cell_type": "code",
   "execution_count": 9,
   "metadata": {},
   "outputs": [],
   "source": [
    "EMOTICON_MAP = {\n",
    "    '^_^': '[animesmile]',\n",
    "    '~_^': '[animewink]',\n",
    "    '^_~': '[animewink]',\n",
    "    '^_-': '[animewink]',\n",
    "    '-_^': '[animewink]',\n",
    "    ':p': '[tongue]',\n",
    "    ':P': '[tongue]',\n",
    "    ';p': '[tonguewink]',\n",
    "    ';P': '[tonguewink]',\n",
    "    ':)': '[smile]',\n",
    "    ';)': '[wink]',\n",
    "    ':-)': '[smile]',\n",
    "}"
   ]
  },
  {
   "cell_type": "code",
   "execution_count": 10,
   "metadata": {},
   "outputs": [],
   "source": [
    "url_match = re.compile('https?:\\/\\/.*[\\r\\n]*')"
   ]
  },
  {
   "cell_type": "code",
   "execution_count": 14,
   "metadata": {},
   "outputs": [],
   "source": [
    "def parse_chat_posts(post, emoticon_map=EMOTICON_MAP, url_match=url_match):\n",
    "    if '<' in post:\n",
    "        post_soup = BeautifulSoup(post, \"lxml\")\n",
    "        for img_tag in post_soup.findAll('img'):\n",
    "            alt = img_tag.get('alt')\n",
    "            if alt is not None:\n",
    "                img_tag.replace_with(alt.lower())\n",
    "                continue\n",
    "\n",
    "            src = img_tag.get('src')\n",
    "            if src is None:\n",
    "                img_tag.replace_with('[unknown]')\n",
    "                continue\n",
    "            file_name = src.split('/')[-1]\n",
    "            file_name = file_name.split('.')[0]\n",
    "            img_tag.replace_with('[{}]'.format(file_name.lower()))\n",
    "\n",
    "        bs_parsed_text = post_soup.text\n",
    "    else:\n",
    "        bs_parsed_text = post\n",
    "    \n",
    "    for emoticon, text in emoticon_map.items():\n",
    "        bs_parsed_text = bs_parsed_text.replace(emoticon, text)\n",
    "    \n",
    "    if url_match is not None:\n",
    "        bs_parsed_text = url_match.sub('[url]', bs_parsed_text)\n",
    "\n",
    "    return bs_parsed_text"
   ]
  },
  {
   "cell_type": "code",
   "execution_count": 15,
   "metadata": {},
   "outputs": [],
   "source": [
    "post_df['text_parsed_bs'] = post_df.text_parsed.apply(parse_chat_posts)"
   ]
  },
  {
   "cell_type": "code",
   "execution_count": 16,
   "metadata": {},
   "outputs": [
    {
     "data": {
      "text/plain": [
       "array([':o', '-- :',\n",
       "       '2010-12-17 15:21:30 Zenkci : Let me ask everyone a question: It is your first few days/weeks at a new job and you are training with a veteran employee. The work day can and may be slow at times; do you use this time to ask questions or play with your smart phone while chatting on Facebook? Or, on that same note the trainer is telling something, you get a text message, do you check while they are still taking to you?',\n",
       "       '(brandon): HI HERO', 'Stalker.', '(nmartinez): Hey Darrow!',\n",
       "       'Testing something', '[firepit][hero]',\n",
       "       'You broke my avatar, you jerk.', 'So broken!',\n",
       "       \"Hey DP; if you happen to see this. We've moved to slack. [url]\",\n",
       "       '(nmartinez): Testing?', 'STOP SPYING ON ME', 'I am over here!',\n",
       "       '(nmartinez): You!', '(brandon): NO YOU!',\n",
       "       '(aawiegel): Calm down kiddos!', '[url]',\n",
       "       'Yeah. But Joe will Make Slack Great Again.', '/me waves.'], dtype=object)"
      ]
     },
     "execution_count": 16,
     "metadata": {},
     "output_type": "execute_result"
    }
   ],
   "source": [
    "post_df['text_parsed_bs'].tail(20).values"
   ]
  },
  {
   "cell_type": "code",
   "execution_count": 17,
   "metadata": {},
   "outputs": [],
   "source": [
    "post_df.handle.fillna('', inplace=True)"
   ]
  },
  {
   "cell_type": "code",
   "execution_count": 18,
   "metadata": {},
   "outputs": [],
   "source": [
    "post_df['handle'] = post_df.handle.str.split(' on:').str.get(0)"
   ]
  },
  {
   "cell_type": "code",
   "execution_count": 19,
   "metadata": {},
   "outputs": [],
   "source": [
    "post_df['handle'] = post_df.handle.str.split(' From:').str.get(0)"
   ]
  },
  {
   "cell_type": "code",
   "execution_count": 20,
   "metadata": {},
   "outputs": [
    {
     "data": {
      "text/plain": [
       "Janus                                                 287940\n",
       "Nadia                                                 240360\n",
       "Vavalion                                              127439\n",
       "Psi-Amy                                                85779\n",
       "Darrow                                                 80400\n",
       "Armadillo                                              76683\n",
       "Red Leader                                             73382\n",
       "Aaron                                                  72906\n",
       "Hero                                                   70740\n",
       "DP                                                     68988\n",
       "Dark Paladin                                           66132\n",
       "Cecil                                                  62365\n",
       "Randofu                                                56251\n",
       "Jester                                                 18492\n",
       "Driretlan                                              18167\n",
       "Piki                                                   16988\n",
       "Soul                                                   16433\n",
       "NeueZiel                                               13999\n",
       "Sraphene                                               12760\n",
       "Becky                                                  12349\n",
       "Lady Sraphim                                            9981\n",
       "NickTUH                                                 9647\n",
       "evilbob                                                 9351\n",
       "J                                                       8124\n",
       "Random Quote                                            7150\n",
       "Blaze                                                   6797\n",
       "K&#39;van Cetre                                         6723\n",
       "Psiren                                                  6516\n",
       "Mog                                                     5533\n",
       "Artemis                                                 4401\n",
       "                                                       ...  \n",
       "~            ponders something that would be even          1\n",
       " *** Chat Server *** I&#39;m on the old computer a         1\n",
       "Hero Blows                                                 1\n",
       "Evil Procrastination Demon                                 1\n",
       "Sae                                                        1\n",
       "Two                                                        1\n",
       "Uh huh...                                                  1\n",
       "The Chat                                                   1\n",
       "Real God                                                   1\n",
       "Arhur Weasley                                              1\n",
       "Mystics                                                    1\n",
       "The Pope                                                   1\n",
       "Owzer                                                      1\n",
       "Freeza                                                     1\n",
       "HTML                                                       1\n",
       "Auctioneer                                                 1\n",
       "Abraham                                                    1\n",
       "3399FF                                                     1\n",
       "Mohawk                                                     1\n",
       "The Internet                                               1\n",
       "Ramadillo                                                  1\n",
       "Alita Doll                                                 1\n",
       "SSU Janitor                                                1\n",
       "~            thinks this new one&#39;s going to be         1\n",
       "Little Timmy                                               1\n",
       "Sad                                                        1\n",
       "The Evil                                                   1\n",
       "Nadia and the mini-bunnies                                 1\n",
       "The Man Made of Sawdust                                    1\n",
       "No Name 1029                                               1\n",
       "Name: handle, Length: 2548, dtype: int64"
      ]
     },
     "execution_count": 20,
     "metadata": {},
     "output_type": "execute_result"
    }
   ],
   "source": [
    "post_df['handle'].value_counts()"
   ]
  },
  {
   "cell_type": "code",
   "execution_count": 21,
   "metadata": {},
   "outputs": [],
   "source": [
    "post_df['handle'] = post_df.handle.apply(tidy_fragment).str.get(0)"
   ]
  },
  {
   "cell_type": "code",
   "execution_count": 23,
   "metadata": {},
   "outputs": [],
   "source": [
    "post_df['handle'] = post_df.handle.apply(html.unescape)"
   ]
  },
  {
   "cell_type": "code",
   "execution_count": 24,
   "metadata": {},
   "outputs": [],
   "source": [
    "post_df['handle'] = post_df.handle.apply(parse_chat_posts, args=(EMOTICON_MAP, None))"
   ]
  },
  {
   "cell_type": "code",
   "execution_count": 25,
   "metadata": {},
   "outputs": [],
   "source": [
    "handle_map = {'DP': 'Dark Paladin',\n",
    "              'Lady Sraphim': 'Sraphene',\n",
    "              'NickTUH': 'Hero',\n",
    "              'J': 'Jester',\n",
    "              'Psiren': 'Psi-Amy',\n",
    "              'Randofuzz0rx': 'Randofu',\n",
    "              'Moggle': 'Mog',\n",
    "              'Uber Ruser': 'Randofu',\n",
    "              'K\\'van': 'K\\'van Cetre',\n",
    "              'Zenkci': 'Hero',\n",
    "              'Phosphene': 'Sraphene',\n",
    "              'Sraphim': 'Sraphene',\n",
    "              'Ruser': 'Randofu',\n",
    "              'Sraphy': 'Sraphene',\n",
    "              'red leader': 'Red Leader'}"
   ]
  },
  {
   "cell_type": "code",
   "execution_count": 26,
   "metadata": {},
   "outputs": [],
   "source": [
    "post_df['handle_fixed'] = post_df.handle.replace(handle_map)"
   ]
  },
  {
   "cell_type": "code",
   "execution_count": 28,
   "metadata": {},
   "outputs": [],
   "source": [
    "post_df['handle'] = post_df['handle_fixed']"
   ]
  },
  {
   "cell_type": "code",
   "execution_count": 29,
   "metadata": {},
   "outputs": [],
   "source": [
    "post_df.drop(columns='handle_fixed', inplace=True)"
   ]
  },
  {
   "cell_type": "code",
   "execution_count": 30,
   "metadata": {},
   "outputs": [
    {
     "data": {
      "text/plain": [
       "Janus                                                 287940\n",
       "Nadia                                                 240362\n",
       "Dark Paladin                                          135120\n",
       "Vavalion                                              127439\n",
       "Psi-Amy                                                92295\n",
       "Hero                                                   82878\n",
       "Darrow                                                 80401\n",
       "Armadillo                                              76683\n",
       "Red Leader                                             74406\n",
       "Aaron                                                  72906\n",
       "Randofu                                                64866\n",
       "Cecil                                                  62365\n",
       "Sraphene                                               27703\n",
       "Jester                                                 26622\n",
       "Driretlan                                              18167\n",
       "Piki                                                   16988\n",
       "Soul                                                   16433\n",
       "NeueZiel                                               13999\n",
       "Becky                                                  12349\n",
       "K'van Cetre                                             9775\n",
       "evilbob                                                 9351\n",
       "Mog                                                     8815\n",
       "Random Quote                                            7150\n",
       "Blaze                                                   6797\n",
       "                                                        4412\n",
       "Artemis                                                 4401\n",
       "Red or Nadia                                            4233\n",
       "Cascadius                                               3555\n",
       "Ilsyn                                                   2787\n",
       "Illia                                                   2597\n",
       "                                                       ...  \n",
       "Council Member                                             1\n",
       "$1 Test                                                    1\n",
       "~ doesn't have an avatar on his CC                         1\n",
       "ofuaRnd                                                    1\n",
       "Aust                                                       1\n",
       "DP-Miao.oO( Blaaaaah...                                    1\n",
       "Bush's Daughter                                            1\n",
       "~ doesn't entirely agree or disagre                        1\n",
       "Sir DONG                                                   1\n",
       "Wed Jan 30 23:16:32 2002                                   1\n",
       "Nuts                                                       1\n",
       "Jack                                                       1\n",
       "Yakuza                                                     1\n",
       "Jester.oO( Probably not. Nothing rents anime out h         1\n",
       "Naida                                                      1\n",
       "Fuchsia                                                    1\n",
       "71.8999999999                                              1\n",
       "Rahd Leader                                                1\n",
       "Curvacious B00ty Shape                                     1\n",
       "Mica Tumbleweed                                            1\n",
       "Norman                                                     1\n",
       "{www.ssuniverse.com/chat/Faces/cry.gif}                    1\n",
       "Rosse Aurelote, Illusionist Extra-Ordinary                 1\n",
       "Ifrit                                                      1\n",
       "G4nd41f th3 133t                                           1\n",
       "~ doesn't even have a room, let alo                        1\n",
       "Live Studio Audience                                       1\n",
       "Emperor Guildenstern                                       1\n",
       "~ is hesitant to mention he voted too                      1\n",
       ": I'd still be able to enjoy it.                           1\n",
       "Name: handle, Length: 2473, dtype: int64"
      ]
     },
     "execution_count": 30,
     "metadata": {},
     "output_type": "execute_result"
    }
   ],
   "source": [
    "post_df.handle.value_counts()"
   ]
  },
  {
   "cell_type": "code",
   "execution_count": 31,
   "metadata": {},
   "outputs": [
    {
     "data": {
      "text/html": [
       "<div>\n",
       "<style scoped>\n",
       "    .dataframe tbody tr th:only-of-type {\n",
       "        vertical-align: middle;\n",
       "    }\n",
       "\n",
       "    .dataframe tbody tr th {\n",
       "        vertical-align: top;\n",
       "    }\n",
       "\n",
       "    .dataframe thead th {\n",
       "        text-align: right;\n",
       "    }\n",
       "</style>\n",
       "<table border=\"1\" class=\"dataframe\">\n",
       "  <thead>\n",
       "    <tr style=\"text-align: right;\">\n",
       "      <th></th>\n",
       "      <th>handle</th>\n",
       "      <th>text</th>\n",
       "      <th>time_stamp</th>\n",
       "      <th>text_parsed</th>\n",
       "      <th>text_parsed_bs</th>\n",
       "    </tr>\n",
       "  </thead>\n",
       "  <tbody>\n",
       "    <tr>\n",
       "      <th>1711188</th>\n",
       "      <td>SSU Slack Bot</td>\n",
       "      <td>(brandon): NO YOU!</td>\n",
       "      <td>2017-05-26 17:33:32</td>\n",
       "      <td>(brandon): NO YOU!</td>\n",
       "      <td>(brandon): NO YOU!</td>\n",
       "    </tr>\n",
       "    <tr>\n",
       "      <th>1711189</th>\n",
       "      <td>SSU Slack Bot</td>\n",
       "      <td>(aawiegel): Calm down kiddos!</td>\n",
       "      <td>2017-05-26 17:34:52</td>\n",
       "      <td>(aawiegel): Calm down kiddos!</td>\n",
       "      <td>(aawiegel): Calm down kiddos!</td>\n",
       "    </tr>\n",
       "    <tr>\n",
       "      <th>1711190</th>\n",
       "      <td>Hero</td>\n",
       "      <td>&lt;a href=\"http://chat.ssuniverse.com/archives_l...</td>\n",
       "      <td>2017-05-26 17:35:43</td>\n",
       "      <td>&lt;a href=\"http://chat.ssuniverse.com/archives_l...</td>\n",
       "      <td>[url]</td>\n",
       "    </tr>\n",
       "    <tr>\n",
       "      <th>1711191</th>\n",
       "      <td>Janus</td>\n",
       "      <td>Yeah. But Joe will Make Slack Great Again.</td>\n",
       "      <td>2017-06-19 15:26:40</td>\n",
       "      <td>Yeah. But Joe will Make Slack Great Again.</td>\n",
       "      <td>Yeah. But Joe will Make Slack Great Again.</td>\n",
       "    </tr>\n",
       "    <tr>\n",
       "      <th>1711192</th>\n",
       "      <td>Janus</td>\n",
       "      <td>/me waves.</td>\n",
       "      <td>2017-10-04 16:54:35</td>\n",
       "      <td>/me waves.</td>\n",
       "      <td>/me waves.</td>\n",
       "    </tr>\n",
       "  </tbody>\n",
       "</table>\n",
       "</div>"
      ],
      "text/plain": [
       "                handle                                               text  \\\n",
       "1711188  SSU Slack Bot                                 (brandon): NO YOU!   \n",
       "1711189  SSU Slack Bot                      (aawiegel): Calm down kiddos!   \n",
       "1711190           Hero  <a href=\"http://chat.ssuniverse.com/archives_l...   \n",
       "1711191          Janus         Yeah. But Joe will Make Slack Great Again.   \n",
       "1711192          Janus                                         /me waves.   \n",
       "\n",
       "                  time_stamp  \\\n",
       "1711188  2017-05-26 17:33:32   \n",
       "1711189  2017-05-26 17:34:52   \n",
       "1711190  2017-05-26 17:35:43   \n",
       "1711191  2017-06-19 15:26:40   \n",
       "1711192  2017-10-04 16:54:35   \n",
       "\n",
       "                                               text_parsed  \\\n",
       "1711188                                 (brandon): NO YOU!   \n",
       "1711189                      (aawiegel): Calm down kiddos!   \n",
       "1711190  <a href=\"http://chat.ssuniverse.com/archives_l...   \n",
       "1711191         Yeah. But Joe will Make Slack Great Again.   \n",
       "1711192                                         /me waves.   \n",
       "\n",
       "                                     text_parsed_bs  \n",
       "1711188                          (brandon): NO YOU!  \n",
       "1711189               (aawiegel): Calm down kiddos!  \n",
       "1711190                                       [url]  \n",
       "1711191  Yeah. But Joe will Make Slack Great Again.  \n",
       "1711192                                  /me waves.  "
      ]
     },
     "execution_count": 31,
     "metadata": {},
     "output_type": "execute_result"
    }
   ],
   "source": [
    "post_df.tail()"
   ]
  },
  {
   "cell_type": "code",
   "execution_count": 32,
   "metadata": {},
   "outputs": [
    {
     "data": {
      "text/html": [
       "<div>\n",
       "<style scoped>\n",
       "    .dataframe tbody tr th:only-of-type {\n",
       "        vertical-align: middle;\n",
       "    }\n",
       "\n",
       "    .dataframe tbody tr th {\n",
       "        vertical-align: top;\n",
       "    }\n",
       "\n",
       "    .dataframe thead th {\n",
       "        text-align: right;\n",
       "    }\n",
       "</style>\n",
       "<table border=\"1\" class=\"dataframe\">\n",
       "  <thead>\n",
       "    <tr style=\"text-align: right;\">\n",
       "      <th></th>\n",
       "      <th>handle</th>\n",
       "      <th>text</th>\n",
       "      <th>time_stamp</th>\n",
       "      <th>text_parsed</th>\n",
       "      <th>text_parsed_bs</th>\n",
       "    </tr>\n",
       "  </thead>\n",
       "  <tbody>\n",
       "    <tr>\n",
       "      <th>0</th>\n",
       "      <td>Hero</td>\n",
       "      <td>Final Test</td>\n",
       "      <td>2001-11-01 00:00:01</td>\n",
       "      <td>Final Test</td>\n",
       "      <td>Final Test</td>\n",
       "    </tr>\n",
       "    <tr>\n",
       "      <th>1</th>\n",
       "      <td>Asuka</td>\n",
       "      <td>^_^</td>\n",
       "      <td>2001-11-01 00:00:02</td>\n",
       "      <td>^_^</td>\n",
       "      <td>[animesmile]</td>\n",
       "    </tr>\n",
       "    <tr>\n",
       "      <th>2</th>\n",
       "      <td>Cecil</td>\n",
       "      <td>Hey everyone!</td>\n",
       "      <td>2001-11-01 00:00:03</td>\n",
       "      <td>Hey everyone!</td>\n",
       "      <td>Hey everyone!</td>\n",
       "    </tr>\n",
       "    <tr>\n",
       "      <th>3</th>\n",
       "      <td>No Name 1029</td>\n",
       "      <td>Hey Cecil.</td>\n",
       "      <td>2001-11-01 00:00:04</td>\n",
       "      <td>Hey Cecil.</td>\n",
       "      <td>Hey Cecil.</td>\n",
       "    </tr>\n",
       "    <tr>\n",
       "      <th>4</th>\n",
       "      <td>Cecil</td>\n",
       "      <td>What&amp;#39;s up?</td>\n",
       "      <td>2001-11-01 00:00:05</td>\n",
       "      <td>What's up?</td>\n",
       "      <td>What's up?</td>\n",
       "    </tr>\n",
       "  </tbody>\n",
       "</table>\n",
       "</div>"
      ],
      "text/plain": [
       "         handle            text           time_stamp    text_parsed  \\\n",
       "0          Hero      Final Test  2001-11-01 00:00:01     Final Test   \n",
       "1         Asuka             ^_^  2001-11-01 00:00:02            ^_^   \n",
       "2         Cecil   Hey everyone!  2001-11-01 00:00:03  Hey everyone!   \n",
       "3  No Name 1029      Hey Cecil.  2001-11-01 00:00:04     Hey Cecil.   \n",
       "4         Cecil  What&#39;s up?  2001-11-01 00:00:05     What's up?   \n",
       "\n",
       "  text_parsed_bs  \n",
       "0     Final Test  \n",
       "1   [animesmile]  \n",
       "2  Hey everyone!  \n",
       "3     Hey Cecil.  \n",
       "4     What's up?  "
      ]
     },
     "execution_count": 32,
     "metadata": {},
     "output_type": "execute_result"
    }
   ],
   "source": [
    "post_df.head()"
   ]
  },
  {
   "cell_type": "code",
   "execution_count": 33,
   "metadata": {},
   "outputs": [],
   "source": [
    "post_df.to_csv('log_bs_parsed.csv', index=False)"
   ]
  },
  {
   "cell_type": "code",
   "execution_count": 34,
   "metadata": {},
   "outputs": [],
   "source": [
    "post_df = pd.read_csv('log_bs_parsed.csv')"
   ]
  },
  {
   "cell_type": "code",
   "execution_count": 35,
   "metadata": {},
   "outputs": [
    {
     "data": {
      "text/plain": [
       "2473"
      ]
     },
     "execution_count": 35,
     "metadata": {},
     "output_type": "execute_result"
    }
   ],
   "source": [
    "len(post_df.handle.unique())"
   ]
  },
  {
   "cell_type": "code",
   "execution_count": 36,
   "metadata": {},
   "outputs": [],
   "source": [
    "post_df.loc[post_df.handle.isnull(), 'handle'] = 'Null Handle'"
   ]
  },
  {
   "cell_type": "code",
   "execution_count": 37,
   "metadata": {},
   "outputs": [
    {
     "data": {
      "text/plain": [
       "count      2473.000000\n",
       "mean        691.951072\n",
       "std        9517.101209\n",
       "min           1.000000\n",
       "25%           1.000000\n",
       "50%           3.000000\n",
       "75%          25.000000\n",
       "max      287940.000000\n",
       "Name: handle, dtype: float64"
      ]
     },
     "execution_count": 37,
     "metadata": {},
     "output_type": "execute_result"
    }
   ],
   "source": [
    "post_df.handle.value_counts().describe()"
   ]
  },
  {
   "cell_type": "code",
   "execution_count": 38,
   "metadata": {},
   "outputs": [],
   "source": [
    "GUESS_WHO_PATH = os.path.join(os.path.curdir, 'guess_who')"
   ]
  },
  {
   "cell_type": "code",
   "execution_count": null,
   "metadata": {},
   "outputs": [],
   "source": [
    "post_df.shift(periods=-2).head(), post_df.head()"
   ]
  },
  {
   "cell_type": "code",
   "execution_count": 39,
   "metadata": {},
   "outputs": [],
   "source": [
    "handle_df = post_df.loc[:, ['time_stamp', 'handle', 'text_parsed_bs']].rename(columns={'text_parsed_bs': 'text'})"
   ]
  },
  {
   "cell_type": "code",
   "execution_count": 40,
   "metadata": {},
   "outputs": [],
   "source": [
    "ref_nums = [-2, -1, 1, 2]"
   ]
  },
  {
   "cell_type": "code",
   "execution_count": 41,
   "metadata": {},
   "outputs": [],
   "source": [
    "combined_posts = handle_df.time_stamp + ' ' + handle_df.handle + ': ' + handle_df.text"
   ]
  },
  {
   "cell_type": "code",
   "execution_count": 42,
   "metadata": {},
   "outputs": [],
   "source": [
    "for ref_num in ref_nums:\n",
    "    if ref_num > 0:\n",
    "        ref_str = 'back'\n",
    "        \n",
    "    else:\n",
    "        ref_str = 'forward'\n",
    "        \n",
    "    handle_df['{}_{}_post'.format(ref_str, -1*ref_num)] = combined_posts.shift(periods=ref_num)"
   ]
  },
  {
   "cell_type": "code",
   "execution_count": 43,
   "metadata": {},
   "outputs": [],
   "source": [
    "handle_df['guess_who'] = ''"
   ]
  },
  {
   "cell_type": "code",
   "execution_count": 44,
   "metadata": {},
   "outputs": [],
   "source": [
    "handle_df = handle_df.loc[:, ['time_stamp', 'handle', 'back_-2_post', \n",
    "                              'back_-1_post', 'text', 'forward_1_post', 'forward_2_post', 'guess_who']]"
   ]
  },
  {
   "cell_type": "code",
   "execution_count": 45,
   "metadata": {},
   "outputs": [
    {
     "data": {
      "text/html": [
       "<div>\n",
       "<style scoped>\n",
       "    .dataframe tbody tr th:only-of-type {\n",
       "        vertical-align: middle;\n",
       "    }\n",
       "\n",
       "    .dataframe tbody tr th {\n",
       "        vertical-align: top;\n",
       "    }\n",
       "\n",
       "    .dataframe thead th {\n",
       "        text-align: right;\n",
       "    }\n",
       "</style>\n",
       "<table border=\"1\" class=\"dataframe\">\n",
       "  <thead>\n",
       "    <tr style=\"text-align: right;\">\n",
       "      <th></th>\n",
       "      <th>time_stamp</th>\n",
       "      <th>handle</th>\n",
       "      <th>back_-2_post</th>\n",
       "      <th>back_-1_post</th>\n",
       "      <th>text</th>\n",
       "      <th>forward_1_post</th>\n",
       "      <th>forward_2_post</th>\n",
       "      <th>guess_who</th>\n",
       "    </tr>\n",
       "  </thead>\n",
       "  <tbody>\n",
       "    <tr>\n",
       "      <th>0</th>\n",
       "      <td>2001-11-01 00:00:01</td>\n",
       "      <td>Hero</td>\n",
       "      <td>NaN</td>\n",
       "      <td>NaN</td>\n",
       "      <td>Final Test</td>\n",
       "      <td>2001-11-01 00:00:02 Asuka: [animesmile]</td>\n",
       "      <td>2001-11-01 00:00:03 Cecil: Hey everyone!</td>\n",
       "      <td></td>\n",
       "    </tr>\n",
       "    <tr>\n",
       "      <th>1</th>\n",
       "      <td>2001-11-01 00:00:02</td>\n",
       "      <td>Asuka</td>\n",
       "      <td>NaN</td>\n",
       "      <td>2001-11-01 00:00:01 Hero: Final Test</td>\n",
       "      <td>[animesmile]</td>\n",
       "      <td>2001-11-01 00:00:03 Cecil: Hey everyone!</td>\n",
       "      <td>2001-11-01 00:00:04 No Name 1029: Hey Cecil.</td>\n",
       "      <td></td>\n",
       "    </tr>\n",
       "    <tr>\n",
       "      <th>2</th>\n",
       "      <td>2001-11-01 00:00:03</td>\n",
       "      <td>Cecil</td>\n",
       "      <td>2001-11-01 00:00:01 Hero: Final Test</td>\n",
       "      <td>2001-11-01 00:00:02 Asuka: [animesmile]</td>\n",
       "      <td>Hey everyone!</td>\n",
       "      <td>2001-11-01 00:00:04 No Name 1029: Hey Cecil.</td>\n",
       "      <td>2001-11-01 00:00:05 Cecil: What's up?</td>\n",
       "      <td></td>\n",
       "    </tr>\n",
       "    <tr>\n",
       "      <th>3</th>\n",
       "      <td>2001-11-01 00:00:04</td>\n",
       "      <td>No Name 1029</td>\n",
       "      <td>2001-11-01 00:00:02 Asuka: [animesmile]</td>\n",
       "      <td>2001-11-01 00:00:03 Cecil: Hey everyone!</td>\n",
       "      <td>Hey Cecil.</td>\n",
       "      <td>2001-11-01 00:00:05 Cecil: What's up?</td>\n",
       "      <td>2001-11-01 00:00:06 Janus: Test.</td>\n",
       "      <td></td>\n",
       "    </tr>\n",
       "    <tr>\n",
       "      <th>4</th>\n",
       "      <td>2001-11-01 00:00:05</td>\n",
       "      <td>Cecil</td>\n",
       "      <td>2001-11-01 00:00:03 Cecil: Hey everyone!</td>\n",
       "      <td>2001-11-01 00:00:04 No Name 1029: Hey Cecil.</td>\n",
       "      <td>What's up?</td>\n",
       "      <td>2001-11-01 00:00:06 Janus: Test.</td>\n",
       "      <td>2001-11-01 00:00:07 Janus: Theeeeeeeeere we go.</td>\n",
       "      <td></td>\n",
       "    </tr>\n",
       "  </tbody>\n",
       "</table>\n",
       "</div>"
      ],
      "text/plain": [
       "            time_stamp        handle  \\\n",
       "0  2001-11-01 00:00:01          Hero   \n",
       "1  2001-11-01 00:00:02         Asuka   \n",
       "2  2001-11-01 00:00:03         Cecil   \n",
       "3  2001-11-01 00:00:04  No Name 1029   \n",
       "4  2001-11-01 00:00:05         Cecil   \n",
       "\n",
       "                               back_-2_post  \\\n",
       "0                                       NaN   \n",
       "1                                       NaN   \n",
       "2      2001-11-01 00:00:01 Hero: Final Test   \n",
       "3   2001-11-01 00:00:02 Asuka: [animesmile]   \n",
       "4  2001-11-01 00:00:03 Cecil: Hey everyone!   \n",
       "\n",
       "                                   back_-1_post           text  \\\n",
       "0                                           NaN     Final Test   \n",
       "1          2001-11-01 00:00:01 Hero: Final Test   [animesmile]   \n",
       "2       2001-11-01 00:00:02 Asuka: [animesmile]  Hey everyone!   \n",
       "3      2001-11-01 00:00:03 Cecil: Hey everyone!     Hey Cecil.   \n",
       "4  2001-11-01 00:00:04 No Name 1029: Hey Cecil.     What's up?   \n",
       "\n",
       "                                 forward_1_post  \\\n",
       "0       2001-11-01 00:00:02 Asuka: [animesmile]   \n",
       "1      2001-11-01 00:00:03 Cecil: Hey everyone!   \n",
       "2  2001-11-01 00:00:04 No Name 1029: Hey Cecil.   \n",
       "3         2001-11-01 00:00:05 Cecil: What's up?   \n",
       "4              2001-11-01 00:00:06 Janus: Test.   \n",
       "\n",
       "                                    forward_2_post guess_who  \n",
       "0         2001-11-01 00:00:03 Cecil: Hey everyone!            \n",
       "1     2001-11-01 00:00:04 No Name 1029: Hey Cecil.            \n",
       "2            2001-11-01 00:00:05 Cecil: What's up?            \n",
       "3                 2001-11-01 00:00:06 Janus: Test.            \n",
       "4  2001-11-01 00:00:07 Janus: Theeeeeeeeere we go.            "
      ]
     },
     "execution_count": 45,
     "metadata": {},
     "output_type": "execute_result"
    }
   ],
   "source": [
    "handle_df.head()"
   ]
  },
  {
   "cell_type": "code",
   "execution_count": 46,
   "metadata": {},
   "outputs": [],
   "source": [
    "handle_df[handle_df.handle.str.startswith('Red or')].to_csv(os.path.join(GUESS_WHO_PATH, 'guess_who_red_or_nadia.csv'), index=False)"
   ]
  },
  {
   "cell_type": "code",
   "execution_count": 47,
   "metadata": {},
   "outputs": [],
   "source": [
    "orphan_handles1 = handle_df.handle.value_counts()[handle_df.handle.value_counts() == 1].index.tolist()"
   ]
  },
  {
   "cell_type": "code",
   "execution_count": 48,
   "metadata": {},
   "outputs": [],
   "source": [
    "handle_df[handle_df.handle.isin(orphan_handles1)].to_csv(os.path.join(GUESS_WHO_PATH, 'guess_who_challenge1.csv'), index=False)"
   ]
  },
  {
   "cell_type": "code",
   "execution_count": 49,
   "metadata": {},
   "outputs": [],
   "source": [
    "handle_counts = handle_df.handle.value_counts()"
   ]
  },
  {
   "cell_type": "code",
   "execution_count": 50,
   "metadata": {},
   "outputs": [],
   "source": [
    "handle_mask = (handle_counts >= 2) & (handle_counts <= 4)"
   ]
  },
  {
   "cell_type": "code",
   "execution_count": 51,
   "metadata": {},
   "outputs": [],
   "source": [
    "handles_2_to_4 = handle_counts[handle_mask].index.tolist()"
   ]
  },
  {
   "cell_type": "code",
   "execution_count": 52,
   "metadata": {},
   "outputs": [],
   "source": [
    "twofour_df = handle_df[handle_df.handle.isin(handles_2_to_4)].sort_values(['handle', 'time_stamp'])"
   ]
  },
  {
   "cell_type": "code",
   "execution_count": 53,
   "metadata": {},
   "outputs": [],
   "source": [
    "twofour_df.to_csv(os.path.join(GUESS_WHO_PATH, 'guess_who_challenge2-4.csv'), index=False)"
   ]
  },
  {
   "cell_type": "code",
   "execution_count": 54,
   "metadata": {},
   "outputs": [],
   "source": [
    "handle_mask = (handle_counts >= 5) & (handle_counts <= 6)"
   ]
  },
  {
   "cell_type": "code",
   "execution_count": 55,
   "metadata": {},
   "outputs": [],
   "source": [
    "handles_5_to_6 = handle_counts[handle_mask].index.tolist()"
   ]
  },
  {
   "cell_type": "code",
   "execution_count": 56,
   "metadata": {},
   "outputs": [],
   "source": [
    "fivesix_df = handle_df[handle_df.handle.isin(handles_5_to_6)].sort_values(['handle', 'time_stamp'])"
   ]
  },
  {
   "cell_type": "code",
   "execution_count": 57,
   "metadata": {},
   "outputs": [],
   "source": [
    "fivesix_df.to_csv(os.path.join(GUESS_WHO_PATH, 'guess_who_challenge5-6.csv'), index=False)"
   ]
  },
  {
   "cell_type": "code",
   "execution_count": 58,
   "metadata": {},
   "outputs": [],
   "source": [
    "handles_7_to_10_mask = (handle_counts >= 7) & (handle_counts <= 10)"
   ]
  },
  {
   "cell_type": "code",
   "execution_count": 59,
   "metadata": {},
   "outputs": [],
   "source": [
    "handles_7_to_10 = handle_counts[handles_7_to_10_mask].index.tolist()"
   ]
  },
  {
   "cell_type": "code",
   "execution_count": 60,
   "metadata": {},
   "outputs": [],
   "source": [
    "seventen_df = handle_df[handle_df.handle.isin(handles_7_to_10)].sort_values(['handle', 'time_stamp'])"
   ]
  },
  {
   "cell_type": "code",
   "execution_count": 61,
   "metadata": {},
   "outputs": [],
   "source": [
    "seventen_df.to_csv(os.path.join(GUESS_WHO_PATH, 'guess_who_challenge7-10.csv'), index=False)"
   ]
  },
  {
   "cell_type": "code",
   "execution_count": 62,
   "metadata": {},
   "outputs": [],
   "source": [
    "handles_11_to_20_mask = (handle_counts >= 11) & (handle_counts <= 20)"
   ]
  },
  {
   "cell_type": "code",
   "execution_count": 63,
   "metadata": {},
   "outputs": [],
   "source": [
    "handles_11_to_20 = handle_counts[handles_11_to_20_mask].index.tolist()"
   ]
  },
  {
   "cell_type": "code",
   "execution_count": 64,
   "metadata": {},
   "outputs": [],
   "source": [
    "eleventwenty_df = handle_df[handle_df.handle.isin(handles_11_to_20)].sort_values(['handle', 'time_stamp'])"
   ]
  },
  {
   "cell_type": "code",
   "execution_count": 65,
   "metadata": {},
   "outputs": [],
   "source": [
    "eleventwenty_df.to_csv(os.path.join(GUESS_WHO_PATH, 'guess_who_challenge11-20.csv'), index=False)"
   ]
  },
  {
   "cell_type": "code",
   "execution_count": 66,
   "metadata": {},
   "outputs": [],
   "source": [
    "handles_21_to_50_mask = (handle_counts >= 21) & (handle_counts <= 50)"
   ]
  },
  {
   "cell_type": "code",
   "execution_count": 67,
   "metadata": {},
   "outputs": [],
   "source": [
    "handles_21_to_50 = handle_counts[handles_21_to_50_mask].index.tolist()"
   ]
  },
  {
   "cell_type": "code",
   "execution_count": 68,
   "metadata": {},
   "outputs": [],
   "source": [
    "twentyonefifty_df = handle_df[handle_df.handle.isin(handles_21_to_50)].sort_values(['handle', 'time_stamp'])"
   ]
  },
  {
   "cell_type": "code",
   "execution_count": 69,
   "metadata": {},
   "outputs": [],
   "source": [
    "twentyonefifty_df.to_csv(os.path.join(GUESS_WHO_PATH, 'guess_who_challenge21-50.csv'), index=False)"
   ]
  },
  {
   "cell_type": "code",
   "execution_count": 70,
   "metadata": {},
   "outputs": [],
   "source": [
    "handles_51_to_100_mask = (handle_counts >= 51) & (handle_counts <= 100)"
   ]
  },
  {
   "cell_type": "code",
   "execution_count": 71,
   "metadata": {},
   "outputs": [],
   "source": [
    "handles_51_to_100 = handle_counts[handles_51_to_100_mask].index.tolist()"
   ]
  },
  {
   "cell_type": "code",
   "execution_count": 72,
   "metadata": {},
   "outputs": [],
   "source": [
    "fiftyhundred_df = handle_df[handle_df.handle.isin(handles_51_to_100)].sort_values(['handle', 'time_stamp'])"
   ]
  },
  {
   "cell_type": "code",
   "execution_count": 73,
   "metadata": {},
   "outputs": [
    {
     "data": {
      "text/html": [
       "<div>\n",
       "<style scoped>\n",
       "    .dataframe tbody tr th:only-of-type {\n",
       "        vertical-align: middle;\n",
       "    }\n",
       "\n",
       "    .dataframe tbody tr th {\n",
       "        vertical-align: top;\n",
       "    }\n",
       "\n",
       "    .dataframe thead th {\n",
       "        text-align: right;\n",
       "    }\n",
       "</style>\n",
       "<table border=\"1\" class=\"dataframe\">\n",
       "  <thead>\n",
       "    <tr style=\"text-align: right;\">\n",
       "      <th></th>\n",
       "      <th>time_stamp</th>\n",
       "      <th>handle</th>\n",
       "      <th>back_-2_post</th>\n",
       "      <th>back_-1_post</th>\n",
       "      <th>text</th>\n",
       "      <th>forward_1_post</th>\n",
       "      <th>forward_2_post</th>\n",
       "      <th>guess_who</th>\n",
       "    </tr>\n",
       "  </thead>\n",
       "  <tbody>\n",
       "    <tr>\n",
       "      <th>864769</th>\n",
       "      <td>2004-03-29 15:45:39</td>\n",
       "      <td>: Ranzera</td>\n",
       "      <td>2004-03-29 15:44:09 Nadia: Red: [siiiiiiiiiiii...</td>\n",
       "      <td>2004-03-29 15:44:24 Nadia: Red: Stuff.</td>\n",
       "      <td>what version are you using?</td>\n",
       "      <td>2004-03-29 15:47:03 Nadia: Red: I forgot alrea...</td>\n",
       "      <td>2004-03-29 15:48:06 : Ranzera: Oh! so you have...</td>\n",
       "      <td></td>\n",
       "    </tr>\n",
       "    <tr>\n",
       "      <th>864771</th>\n",
       "      <td>2004-03-29 15:48:06</td>\n",
       "      <td>: Ranzera</td>\n",
       "      <td>2004-03-29 15:45:39 : Ranzera: what version ar...</td>\n",
       "      <td>2004-03-29 15:47:03 Nadia: Red: I forgot alrea...</td>\n",
       "      <td>Oh! so you haven't used it yet?</td>\n",
       "      <td>2004-03-29 15:48:53 Nadia: Red: Nope. And you ...</td>\n",
       "      <td>2004-03-29 15:49:44 : Ranzera: the name says a...</td>\n",
       "      <td></td>\n",
       "    </tr>\n",
       "    <tr>\n",
       "      <th>864773</th>\n",
       "      <td>2004-03-29 15:49:44</td>\n",
       "      <td>: Ranzera</td>\n",
       "      <td>2004-03-29 15:48:06 : Ranzera: Oh! so you have...</td>\n",
       "      <td>2004-03-29 15:48:53 Nadia: Red: Nope. And you ...</td>\n",
       "      <td>the name says all. I would be Piki's Ex. I've ...</td>\n",
       "      <td>2004-03-29 15:49:59 Nadia: Red: God, I feel li...</td>\n",
       "      <td>2004-03-29 15:50:08 Nadia: Ah.</td>\n",
       "      <td></td>\n",
       "    </tr>\n",
       "    <tr>\n",
       "      <th>864776</th>\n",
       "      <td>2004-03-29 15:50:26</td>\n",
       "      <td>: Ranzera</td>\n",
       "      <td>2004-03-29 15:49:59 Nadia: Red: God, I feel li...</td>\n",
       "      <td>2004-03-29 15:50:08 Nadia: Ah.</td>\n",
       "      <td>dude, calm down. If computers are one thing, t...</td>\n",
       "      <td>2004-03-29 15:51:23 : Ranzera: I personally us...</td>\n",
       "      <td>2004-03-29 15:52:03 : Ranzera: you could also ...</td>\n",
       "      <td></td>\n",
       "    </tr>\n",
       "    <tr>\n",
       "      <th>864777</th>\n",
       "      <td>2004-03-29 15:51:23</td>\n",
       "      <td>: Ranzera</td>\n",
       "      <td>2004-03-29 15:50:08 Nadia: Ah.</td>\n",
       "      <td>2004-03-29 15:50:26 : Ranzera: dude, calm down...</td>\n",
       "      <td>I personally use a combination of Adaware, AVG...</td>\n",
       "      <td>2004-03-29 15:52:03 : Ranzera: you could also ...</td>\n",
       "      <td>2004-03-29 15:55:16 Randofu: Errr...? [feak]</td>\n",
       "      <td></td>\n",
       "    </tr>\n",
       "  </tbody>\n",
       "</table>\n",
       "</div>"
      ],
      "text/plain": [
       "                 time_stamp     handle  \\\n",
       "864769  2004-03-29 15:45:39  : Ranzera   \n",
       "864771  2004-03-29 15:48:06  : Ranzera   \n",
       "864773  2004-03-29 15:49:44  : Ranzera   \n",
       "864776  2004-03-29 15:50:26  : Ranzera   \n",
       "864777  2004-03-29 15:51:23  : Ranzera   \n",
       "\n",
       "                                             back_-2_post  \\\n",
       "864769  2004-03-29 15:44:09 Nadia: Red: [siiiiiiiiiiii...   \n",
       "864771  2004-03-29 15:45:39 : Ranzera: what version ar...   \n",
       "864773  2004-03-29 15:48:06 : Ranzera: Oh! so you have...   \n",
       "864776  2004-03-29 15:49:59 Nadia: Red: God, I feel li...   \n",
       "864777                     2004-03-29 15:50:08 Nadia: Ah.   \n",
       "\n",
       "                                             back_-1_post  \\\n",
       "864769             2004-03-29 15:44:24 Nadia: Red: Stuff.   \n",
       "864771  2004-03-29 15:47:03 Nadia: Red: I forgot alrea...   \n",
       "864773  2004-03-29 15:48:53 Nadia: Red: Nope. And you ...   \n",
       "864776                     2004-03-29 15:50:08 Nadia: Ah.   \n",
       "864777  2004-03-29 15:50:26 : Ranzera: dude, calm down...   \n",
       "\n",
       "                                                     text  \\\n",
       "864769                        what version are you using?   \n",
       "864771                    Oh! so you haven't used it yet?   \n",
       "864773  the name says all. I would be Piki's Ex. I've ...   \n",
       "864776  dude, calm down. If computers are one thing, t...   \n",
       "864777  I personally use a combination of Adaware, AVG...   \n",
       "\n",
       "                                           forward_1_post  \\\n",
       "864769  2004-03-29 15:47:03 Nadia: Red: I forgot alrea...   \n",
       "864771  2004-03-29 15:48:53 Nadia: Red: Nope. And you ...   \n",
       "864773  2004-03-29 15:49:59 Nadia: Red: God, I feel li...   \n",
       "864776  2004-03-29 15:51:23 : Ranzera: I personally us...   \n",
       "864777  2004-03-29 15:52:03 : Ranzera: you could also ...   \n",
       "\n",
       "                                           forward_2_post guess_who  \n",
       "864769  2004-03-29 15:48:06 : Ranzera: Oh! so you have...            \n",
       "864771  2004-03-29 15:49:44 : Ranzera: the name says a...            \n",
       "864773                     2004-03-29 15:50:08 Nadia: Ah.            \n",
       "864776  2004-03-29 15:52:03 : Ranzera: you could also ...            \n",
       "864777       2004-03-29 15:55:16 Randofu: Errr...? [feak]            "
      ]
     },
     "execution_count": 73,
     "metadata": {},
     "output_type": "execute_result"
    }
   ],
   "source": [
    "fiftyhundred_df.head()"
   ]
  },
  {
   "cell_type": "code",
   "execution_count": 74,
   "metadata": {},
   "outputs": [],
   "source": [
    "fiftyhundred_df.to_csv(os.path.join(GUESS_WHO_PATH, 'guess_who_challenge51-100.csv'), index=False)"
   ]
  },
  {
   "cell_type": "code",
   "execution_count": 75,
   "metadata": {},
   "outputs": [],
   "source": [
    "handles_101_to_1000_mask = (handle_counts >= 101) & (handle_counts <= 1000)"
   ]
  },
  {
   "cell_type": "code",
   "execution_count": 76,
   "metadata": {},
   "outputs": [],
   "source": [
    "handles_101_to_1000 = handle_counts[handles_101_to_1000_mask].index.tolist()"
   ]
  },
  {
   "cell_type": "code",
   "execution_count": 77,
   "metadata": {},
   "outputs": [],
   "source": [
    "hundredonethousand_df = handle_df[handle_df.handle.isin(handles_101_to_1000)].sort_values(['handle', 'time_stamp'])"
   ]
  },
  {
   "cell_type": "code",
   "execution_count": 78,
   "metadata": {},
   "outputs": [],
   "source": [
    "hundredonethousand_df.to_csv(os.path.join(GUESS_WHO_PATH, 'guess_who_challenge101-1000.csv'), index=False)"
   ]
  },
  {
   "cell_type": "code",
   "execution_count": 79,
   "metadata": {},
   "outputs": [
    {
     "data": {
      "text/plain": [
       "Janus                    287940\n",
       "Nadia                    240362\n",
       "Dark Paladin             135120\n",
       "Vavalion                 127439\n",
       "Psi-Amy                   92295\n",
       "Hero                      82878\n",
       "Darrow                    80401\n",
       "Armadillo                 76683\n",
       "Red Leader                74406\n",
       "Aaron                     72906\n",
       "Randofu                   64866\n",
       "Cecil                     62365\n",
       "Sraphene                  27703\n",
       "Jester                    26622\n",
       "Driretlan                 18167\n",
       "Piki                      16988\n",
       "Soul                      16433\n",
       "NeueZiel                  13999\n",
       "Becky                     12349\n",
       "K'van Cetre                9775\n",
       "evilbob                    9351\n",
       "Mog                        8815\n",
       "Random Quote               7150\n",
       "Blaze                      6797\n",
       "Null Handle                4412\n",
       "Artemis                    4401\n",
       "Red or Nadia               4233\n",
       "Cascadius                  3555\n",
       "Ilsyn                      2787\n",
       "Illia                      2597\n",
       "Hawk                       2329\n",
       "DM                         2136\n",
       "Randomquote Server         1743\n",
       "Dry                        1717\n",
       "Liah                       1681\n",
       "Centaures                  1645\n",
       "The Man                    1636\n",
       "Comfortably Numb           1606\n",
       "Genitive Absolute          1574\n",
       "Amii                       1539\n",
       "Valimus                    1498\n",
       "Taro                       1253\n",
       "Narok                      1222\n",
       "Amber-chan                 1179\n",
       "Rin                        1159\n",
       "Creepy Uncle Dog Face      1089\n",
       "Darkfire                   1029\n",
       "Name: handle, dtype: int64"
      ]
     },
     "execution_count": 79,
     "metadata": {},
     "output_type": "execute_result"
    }
   ],
   "source": [
    "handle_counts[handle_counts > 1000]"
   ]
  },
  {
   "cell_type": "code",
   "execution_count": 80,
   "metadata": {},
   "outputs": [],
   "source": [
    "handle_counts[handle_counts > 1000].to_csv('regulars.csv')"
   ]
  },
  {
   "cell_type": "code",
   "execution_count": null,
   "metadata": {},
   "outputs": [],
   "source": [
    "fig, ax = plt.subplots()\n",
    "handle_counts.value_counts().hist(bins=[0, 1, 2, 3, 4, 5, 6, 7, 8, 9, 10, 1000], ax = ax)\n",
    "ax.set_xlim([0, 11])"
   ]
  },
  {
   "cell_type": "code",
   "execution_count": null,
   "metadata": {},
   "outputs": [],
   "source": [
    "post_df.handle.value_counts()[post_df.handle.value_counts() == 22]"
   ]
  },
  {
   "cell_type": "code",
   "execution_count": null,
   "metadata": {},
   "outputs": [],
   "source": [
    "from sklearn.feature_extraction.text import CountVectorizer, TfidfVectorizer\n",
    "from sklearn.decomposition import NMF\n",
    "import numpy as np"
   ]
  },
  {
   "cell_type": "code",
   "execution_count": null,
   "metadata": {},
   "outputs": [],
   "source": [
    "def get_topical_terms(topic_mat, topic_num, term_vec, num_terms=25):\n",
    "    return term_vec[np.argsort(-topic_mat[topic_num,:])][:num_terms]"
   ]
  },
  {
   "cell_type": "code",
   "execution_count": null,
   "metadata": {},
   "outputs": [],
   "source": [
    "count_vec = CountVectorizer(min_df=20, stop_words='english')"
   ]
  },
  {
   "cell_type": "code",
   "execution_count": null,
   "metadata": {},
   "outputs": [],
   "source": [
    "word_mat = count_vec.fit_transform(post_df['text_parsed_bs'])"
   ]
  },
  {
   "cell_type": "code",
   "execution_count": null,
   "metadata": {},
   "outputs": [],
   "source": [
    "count_vec.get_feature_names()[:10]"
   ]
  },
  {
   "cell_type": "code",
   "execution_count": null,
   "metadata": {},
   "outputs": [],
   "source": [
    "nmf = NMF(50)"
   ]
  },
  {
   "cell_type": "code",
   "execution_count": null,
   "metadata": {},
   "outputs": [],
   "source": [
    "nmf_mat = nmf.fit_transform(word_mat)"
   ]
  },
  {
   "cell_type": "code",
   "execution_count": null,
   "metadata": {},
   "outputs": [],
   "source": [
    "terms = np.array(count_vec.get_feature_names())\n",
    "for i in range(10):\n",
    "    print(\"topic {}\".format(i))\n",
    "    print(get_topical_terms(nmf.components_,i,terms, 50))"
   ]
  },
  {
   "cell_type": "code",
   "execution_count": null,
   "metadata": {},
   "outputs": [],
   "source": [
    "terms = np.array(count_vec.get_feature_names())\n",
    "for i in range(10, 20, 1):\n",
    "    print(\"topic {}\".format(i))\n",
    "    print(get_topical_terms(nmf.components_,i,terms, 35))"
   ]
  },
  {
   "cell_type": "code",
   "execution_count": null,
   "metadata": {},
   "outputs": [],
   "source": [
    "post_df['text_parsed_bs'].head(100).values"
   ]
  },
  {
   "cell_type": "code",
   "execution_count": null,
   "metadata": {},
   "outputs": [],
   "source": [
    "post_df.to_csv('posts_bs_parsed.csv', index=False)"
   ]
  },
  {
   "cell_type": "code",
   "execution_count": null,
   "metadata": {},
   "outputs": [],
   "source": []
  },
  {
   "cell_type": "code",
   "execution_count": null,
   "metadata": {
    "scrolled": false
   },
   "outputs": [],
   "source": [
    "post_df.text_parsed_bs.isnull().sum()/len(post_df)"
   ]
  },
  {
   "cell_type": "code",
   "execution_count": null,
   "metadata": {},
   "outputs": [],
   "source": [
    "post_df.loc[img_mask, 'text_parsed'].head(20).values"
   ]
  },
  {
   "cell_type": "code",
   "execution_count": null,
   "metadata": {},
   "outputs": [],
   "source": [
    "new_img_mask = post_df.text_parsed.str.contains('<img src=\"emoticons')"
   ]
  },
  {
   "cell_type": "code",
   "execution_count": null,
   "metadata": {},
   "outputs": [],
   "source": [
    "new_img_mask.sum()"
   ]
  },
  {
   "cell_type": "code",
   "execution_count": null,
   "metadata": {},
   "outputs": [],
   "source": [
    "post_df[new_img_mask].head()"
   ]
  },
  {
   "cell_type": "code",
   "execution_count": null,
   "metadata": {},
   "outputs": [],
   "source": [
    "post_df[img_mask & ~new_img_mask].tail()"
   ]
  },
  {
   "cell_type": "code",
   "execution_count": null,
   "metadata": {},
   "outputs": [],
   "source": [
    "post_df['time_stamp_parsed'] = pd.to_datetime(post_df.time_stamp)"
   ]
  },
  {
   "cell_type": "code",
   "execution_count": null,
   "metadata": {},
   "outputs": [],
   "source": [
    "date_mask = post_df['time_stamp_parsed'] < pd.Timestamp('2005-01-24')"
   ]
  },
  {
   "cell_type": "code",
   "execution_count": null,
   "metadata": {},
   "outputs": [],
   "source": [
    "post_df.loc[date_mask, 'text_parsed'].tail().values"
   ]
  },
  {
   "cell_type": "code",
   "execution_count": null,
   "metadata": {},
   "outputs": [],
   "source": []
  }
 ],
 "metadata": {
  "kernelspec": {
   "display_name": "Python 3",
   "language": "python",
   "name": "python3"
  },
  "language_info": {
   "codemirror_mode": {
    "name": "ipython",
    "version": 3
   },
   "file_extension": ".py",
   "mimetype": "text/x-python",
   "name": "python",
   "nbconvert_exporter": "python",
   "pygments_lexer": "ipython3",
   "version": "3.6.3"
  }
 },
 "nbformat": 4,
 "nbformat_minor": 2
}
